{
 "cells": [
  {
   "cell_type": "markdown",
   "metadata": {},
   "source": [
    "Run the below commands to setup initialization"
   ]
  },
  {
   "cell_type": "code",
   "execution_count": null,
   "metadata": {},
   "outputs": [],
   "source": [
    "# ! pip install dvc\n",
    "# ! git init\n",
    "# ! dvc init"
   ]
  },
  {
   "cell_type": "code",
   "execution_count": null,
   "metadata": {},
   "outputs": [],
   "source": [
    "# ! mkdir dataset\n",
    "# ! dvc add dataset/iris.csv\n",
    "# ! git add dataset/iris.csv.dvc\n",
    "# ! git add .dvc/.gitignore dataset/iris.csv.dvc\n",
    "# ! "
   ]
  },
  {
   "cell_type": "code",
   "execution_count": null,
   "metadata": {},
   "outputs": [],
   "source": [
    "# ! git add dataset/.gitignore dataset/iris.csv.dvc\n",
    "# ! git commit -m \"Add raw data\""
   ]
  },
  {
   "cell_type": "code",
   "execution_count": null,
   "metadata": {},
   "outputs": [],
   "source": [
    "# ! cat dataset/iris.csv.dvc\n",
    "# ! dvc remote add -d storage gdrive://1_lGEN7coJ8ftr32b0XABOp3E5xGjZt2L"
   ]
  },
  {
   "cell_type": "markdown",
   "metadata": {},
   "source": []
  }
 ],
 "metadata": {
  "kernelspec": {
   "display_name": "Python 3",
   "language": "python",
   "name": "python3"
  },
  "language_info": {
   "name": "python",
   "version": "3.12.1"
  }
 },
 "nbformat": 4,
 "nbformat_minor": 2
}
