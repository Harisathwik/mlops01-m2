{
 "cells": [
  {
   "cell_type": "markdown",
   "metadata": {},
   "source": [
    "Run the below commands to setup initialization"
   ]
  },
  {
   "cell_type": "markdown",
   "metadata": {},
   "source": [
    "### M2 DVC Workflow"
   ]
  },
  {
   "cell_type": "code",
   "execution_count": null,
   "metadata": {},
   "outputs": [],
   "source": [
    "# DVC Installation and Initialization\n",
    "! pip install dvc\n",
    "! git init\n",
    "! dvc init"
   ]
  },
  {
   "cell_type": "code",
   "execution_count": null,
   "metadata": {},
   "outputs": [],
   "source": [
    "# Data Preparation and Data Versioning\n",
    "! mkdir dataset\n",
    "! dvc add dataset/iris.csv\n",
    "! git add dataset/iris.csv.dvc\n",
    "! git add .dvc/.gitignore dataset/iris.csv.dvc\n",
    "! git commit -m \"Add raw data\""
   ]
  },
  {
   "cell_type": "code",
   "execution_count": null,
   "metadata": {},
   "outputs": [],
   "source": [
    "# DVC Remote Storage Configuration\n",
    "! cat dataset/iris.csv.dvc\n",
    "\n",
    "# Remote storage configuration is done through GCP. Reference: https://dvc.org/doc/user-guide/data-management/remote-storage/google-drive#using-a-custom-google-cloud-project-recommended\n",
    "! dvc push\n",
    "\n",
    "# Remove Data\n",
    "! rm -f dataset/iris.csv\n",
    "! rm -rf .dvc/cache\n",
    "\n",
    "# Checkpointing\n",
    "! dvc pull\n",
    "\n",
    "# Modify Data by duplicating the data\n",
    "! cp dataset/iris.csv /tmp/iris.csv\n",
    "! cat /tmp/iris.csv >> dataset/iris.csv\n",
    "! ls -lh dataset\n",
    "! dvc add dataset/iris.csv\n",
    "! git add dataset/iris.csv.dvc\n",
    "! git commit -m \"Data doubled\"\n",
    "! dvc push\n",
    "\n",
    "# Data Recovery and Logs of history\n",
    "! git log --oneline\n",
    "        # 7e3bdda (HEAD -> main) Data doubled\n",
    "        # 3e8c51d add raw\n",
    "        # a124293 Configure remote storage\n",
    "        # 42b61c4 Config remote storage\n",
    "        # f152284 Config remote storage\n",
    "        # ce4e73f Config remote storage\n",
    "        # 50b2574 Config remote storage\n",
    "        # 6d4d50e Config remote storage\n",
    "        # c014d38 Config remote storage\n",
    "        # 2ba11ea Add raw data\n",
    "\n",
    "# Data Restore to previous version\n",
    "! git checkout HEAD^1 dataset/iris.csv.dvc\n",
    "\n",
    "# Cross verify the data and logs\n",
    "# @Harisathwik ➜ /workspaces/mlops01-M3/app (main) $ ls -lh dataset/iris.csv\n",
    "# -rw-rw-rw- 1 codespace codespace 11K Jan 26 08:24 dataset/iris.csv\n",
    "# @Harisathwik ➜ /workspaces/mlops01-M3/app (main) $ dvc checkout\n",
    "# Building workspace index                            |2.00 [00:00,  354entry/s]\n",
    "# Comparing indexes                                  |3.00 [00:00, 1.31kentry/s]\n",
    "# Applying changes                                    |1.00 [00:00,   259file/s]\n",
    "# M       dataset/iris.csv\n",
    "# @Harisathwik ➜ /workspaces/mlops01-M3/app (main) $ ls -lh dataset/iris.csv\n",
    "# -rw-rw-rw- 1 codespace codespace 2.8K Jan 26 08:30 dataset/iris.csv\n"
   ]
  },
  {
   "cell_type": "markdown",
   "metadata": {},
   "source": []
  }
 ],
 "metadata": {
  "kernelspec": {
   "display_name": "Python 3",
   "language": "python",
   "name": "python3"
  },
  "language_info": {
   "name": "python",
   "version": "3.12.1"
  }
 },
 "nbformat": 4,
 "nbformat_minor": 2
}
